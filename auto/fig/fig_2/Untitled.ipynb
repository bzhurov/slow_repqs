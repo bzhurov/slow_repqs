{
 "cells": [
  {
   "cell_type": "code",
   "execution_count": 1,
   "metadata": {
    "collapsed": false
   },
   "outputs": [
    {
     "data": {
      "text/html": [
       "<style>.container { width:100% !important; }</style>"
      ],
      "text/plain": [
       "<IPython.core.display.HTML object>"
      ]
     },
     "execution_count": 1,
     "metadata": {},
     "output_type": "execute_result"
    }
   ],
   "source": [
    "from IPython.core.display import HTML\n",
    "HTML(\"<style>.container { width:100% !important; }</style>\")"
   ]
  },
  {
   "cell_type": "code",
   "execution_count": 2,
   "metadata": {
    "collapsed": false
   },
   "outputs": [
    {
     "name": "stderr",
     "output_type": "stream",
     "text": [
      "/usr/local/lib/python2.7/site-packages/matplotlib/font_manager.py:273: UserWarning: Matplotlib is building the font cache using fc-list. This may take a moment.\n",
      "  warnings.warn('Matplotlib is building the font cache using fc-list. This may take a moment.')\n"
     ]
    }
   ],
   "source": [
    "import numpy as np\n",
    "import matplotlib.pyplot as plt\n",
    "import pygero as gero\n",
    "gero.plot.use_color('article_lpi')\n",
    "%matplotlib inline"
   ]
  },
  {
   "cell_type": "code",
   "execution_count": 3,
   "metadata": {
    "collapsed": false
   },
   "outputs": [
    {
     "name": "stdout",
     "output_type": "stream",
     "text": [
      "# v1n = 'par000'\n",
      "# v2n = 'var001'\n",
      "data20161118075307_repqs19reqs_ss_omega_00000 = np.load('20161118075307_repqs19reqs_ss_omega_00000.npz')\n",
      "v1 = data20161118075307_repqs19reqs_ss_omega_00000['b00000_' + v1n]\n",
      "v2 = data20161118075307_repqs19reqs_ss_omega_00000['b00000_' + v2n]\n",
      "plt.plot(v1, v2, linestyle = '--', color = 'black', lw = 3)\n",
      "plt.plot(v1[29], v2[29], marker = 'x', markersize = 12, markeredgewidth = 4, color = 'g', markeredgecolor = 'g', alpha = 0.5, zorder = 1000)\n",
      "plt.annotate('LP', (v1[29], v2[29]), textcoords='offset points', xycoords='data',  xytext=(-30, 15))\n",
      "v1 = data20161118075307_repqs19reqs_ss_omega_00000['b00001_' + v1n]\n",
      "v2 = data20161118075307_repqs19reqs_ss_omega_00000['b00001_' + v2n]\n",
      "plt.plot(v1, v2, linestyle = '--', color = 'black', lw = 3)\n",
      "plt.plot(v1[1425], v2[1425], marker = 'x', markersize = 12, markeredgewidth = 4, color = 'g', markeredgecolor = 'g', alpha = 0.5, zorder = 1000)\n",
      "plt.annotate('LP', (v1[1425], v2[1425]), textcoords='offset points', xycoords='data',  xytext=(-30, 15))\n",
      "v1 = data20161118075307_repqs19reqs_ss_omega_00000['b00002_' + v1n]\n",
      "v2 = data20161118075307_repqs19reqs_ss_omega_00000['b00002_' + v2n]\n",
      "plt.plot(v1, v2, linestyle = '-', color = 'black', lw = 3)\n",
      "\n"
     ]
    }
   ],
   "source": [
    "print np.load('20161118075307_repqs19reqs_ss_omega_00000.npz')['script']"
   ]
  },
  {
   "cell_type": "code",
   "execution_count": 14,
   "metadata": {
    "collapsed": false
   },
   "outputs": [
    {
     "name": "stdout",
     "output_type": "stream",
     "text": [
      "['b00000_var012', 'b00000_var013', 'b00000_var010', 'b00000_var011', 'b00000_var016', 'b00000_var017', 'b00000_var014', 'b00000_var015', 'b00000_var018', 'b00000_var019', 'b00000_type', 'brid', 'script', 'b00000_bifnum', 'b00000_var001', 'b00000_var000', 'b00000_var003', 'b00000_var002', 'b00000_var005', 'b00000_var004', 'b00000_var007', 'b00000_var006', 'b00000_var009', 'b00000_var008', 'brnum', 'b00000_par001', 'b00000_par000', 'b00000_stable']\n"
     ]
    }
   ],
   "source": [
    "print np.load('20161118121431_repqs19reqs_lc_omega_00000.npz').files"
   ]
  },
  {
   "cell_type": "markdown",
   "metadata": {},
   "source": [
    "Plot SS\n",
    "-------"
   ]
  },
  {
   "cell_type": "code",
   "execution_count": null,
   "metadata": {
    "collapsed": false
   },
   "outputs": [],
   "source": [
    "v1n = 'par000'\n",
    "v2n = 'var002'\n",
    "fig1, ax1 = plt.subplots()\n",
    "data20161118075307_repqs19reqs_ss_omega_00000 = np.load('20161118075307_repqs19reqs_ss_omega_00000.npz')\n",
    "v1 = data20161118075307_repqs19reqs_ss_omega_00000['b00000_' + v1n]\n",
    "v2 = data20161118075307_repqs19reqs_ss_omega_00000['b00000_' + v2n]\n",
    "plt.plot(v1, v2, linestyle = '--', color = 'black', lw = 3)\n",
    "plt.plot(v1[29], v2[29], marker = 'x', markersize = 12, markeredgewidth = 4, color = 'g', markeredgecolor = 'g', alpha = 0.5, zorder = 1000)\n",
    "plt.annotate('LP', (v1[29], v2[29]), textcoords='offset points', xycoords='data',  xytext=(-5, 15))\n",
    "v1 = data20161118075307_repqs19reqs_ss_omega_00000['b00001_' + v1n]\n",
    "v2 = data20161118075307_repqs19reqs_ss_omega_00000['b00001_' + v2n]\n",
    "plt.plot(v1, v2, linestyle = '--', color = 'black', lw = 3)\n",
    "plt.plot(v1[1425], v2[1425], marker = 'x', markersize = 12, markeredgewidth = 4, color = 'g', markeredgecolor = 'g', alpha = 0.5, zorder = 1000)\n",
    "plt.annotate('LP', (v1[1425], v2[1425]), textcoords='offset points', xycoords='data',  xytext=(20, 0))\n",
    "v1 = data20161118075307_repqs19reqs_ss_omega_00000['b00002_' + v1n]\n",
    "v2 = data20161118075307_repqs19reqs_ss_omega_00000['b00002_' + v2n]\n",
    "plt.plot(v1, v2, linestyle = '-', color = 'black', lw = 3)\n",
    "\n",
    "#Plot LC\n",
    "data20161118121431_repqs19reqs_lc_omega_00000 = np.load('20161118121431_repqs19reqs_lc_omega_00000.npz')\n",
    "v1 = data20161118121431_repqs19reqs_lc_omega_00000['b00000_' + v1n]\n",
    "v2 = data20161118121431_repqs19reqs_lc_omega_00000['b00000_' + v2n]\n",
    "plt.plot(v1, v2, linestyle = '-', color = 'grey', lw = 6)\n",
    "plt.xlabel('$\\omega$')\n",
    "plt.ylabel('$M_2$')\n",
    "\n",
    "ax2 = ax1.twinx()\n",
    "v2 = data20161118121431_repqs19reqs_lc_omega_00000['b00000_par001']\n",
    "ax2.plot(v1, v2, linestyle = '-', color = 'blue', lw = 6, alpha = 0.5)\n",
    "ax2.grid()\n",
    "for tl in ax2.get_yticklabels():\n",
    "    tl.set_color('blue')\n",
    "ax2.set_ylabel('T')\n",
    "ax2.set_yticks([100000, 200000, 300000])\n",
    "plt.tight_layout()\n",
    "plt.savefig('fig2.png', dpi = 300)"
   ]
  },
  {
   "cell_type": "code",
   "execution_count": null,
   "metadata": {
    "collapsed": true
   },
   "outputs": [],
   "source": []
  }
 ],
 "metadata": {
  "kernelspec": {
   "display_name": "Python 3",
   "language": "python",
   "name": "python3"
  },
  "language_info": {
   "codemirror_mode": {
    "name": "ipython",
    "version": 3
   },
   "file_extension": ".py",
   "mimetype": "text/x-python",
   "name": "python",
   "nbconvert_exporter": "python",
   "pygments_lexer": "ipython3",
   "version": "3.5.1"
  }
 },
 "nbformat": 4,
 "nbformat_minor": 0
}
