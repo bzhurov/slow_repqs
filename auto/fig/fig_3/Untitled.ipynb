{
 "cells": [
  {
   "cell_type": "code",
   "execution_count": 1,
   "metadata": {
    "collapsed": false
   },
   "outputs": [
    {
     "data": {
      "text/html": [
       "<style>.container { width:100% !important; }</style>"
      ],
      "text/plain": [
       "<IPython.core.display.HTML object>"
      ]
     },
     "execution_count": 1,
     "metadata": {},
     "output_type": "execute_result"
    }
   ],
   "source": [
    "from IPython.core.display import HTML\n",
    "HTML(\"<style>.container { width:100% !important; }</style>\")"
   ]
  },
  {
   "cell_type": "code",
   "execution_count": 6,
   "metadata": {
    "collapsed": false
   },
   "outputs": [],
   "source": [
    "import matplotlib.pyplot as plt\n",
    "%matplotlib inline\n",
    "import numpy as np\n",
    "import pygero as gero\n",
    "gero.plot.use_color('article_lpi')"
   ]
  },
  {
   "cell_type": "code",
   "execution_count": 3,
   "metadata": {
    "collapsed": false
   },
   "outputs": [
    {
     "name": "stdout",
     "output_type": "stream",
     "text": [
      "# v1n = 'par000'\n",
      "# v2n = 'var001'\n",
      "data20161119120634_repqs19reqs_ss_se_00000 = np.load('20161119120634_repqs19reqs_ss_se_00000.npz')\n",
      "v1 = data20161119120634_repqs19reqs_ss_se_00000['b00000_' + v1n]\n",
      "v2 = data20161119120634_repqs19reqs_ss_se_00000['b00000_' + v2n]\n",
      "plt.plot(v1, v2, linestyle = '--', color = 'black', lw = 3)\n",
      "plt.plot(v1[0], v2[0], marker = 's', markersize = 12, markeredgewidth = 0, color = 'g', markeredgecolor = 'g', alpha = 0.5, zorder = 1000)\n",
      "plt.annotate('HB', (v1[0], v2[0]), textcoords='offset points', xycoords='data',  xytext=(-30, 15))\n",
      "v1 = data20161119120634_repqs19reqs_ss_se_00000['b00001_' + v1n]\n",
      "v2 = data20161119120634_repqs19reqs_ss_se_00000['b00001_' + v2n]\n",
      "plt.plot(v1, v2, linestyle = '-', color = 'black', lw = 3)\n",
      "\n"
     ]
    }
   ],
   "source": [
    "print np.load('20161119120634_repqs19reqs_ss_se_00000.npz')['script']"
   ]
  },
  {
   "cell_type": "code",
   "execution_count": 4,
   "metadata": {
    "collapsed": false
   },
   "outputs": [
    {
     "name": "stdout",
     "output_type": "stream",
     "text": [
      "# v1n = 'par000'\n",
      "# v2n = 'var001'\n",
      "data20161119180440_repqs19reqs_lc_se_00000 = np.load('20161119180440_repqs19reqs_lc_se_00000.npz')\n",
      "v1 = data20161119180440_repqs19reqs_lc_se_00000['b00000_' + v1n]\n",
      "v2 = data20161119180440_repqs19reqs_lc_se_00000['b00000_' + v2n]\n",
      "plt.plot(v1, v2, linestyle = '-', color = 'grey', lw = 6)\n",
      "plt.plot(v1[1169], v2[1169], marker = 'x', markersize = 12, markeredgewidth = 4, color = 'g', markeredgecolor = 'g', alpha = 0.5, zorder = 1000)\n",
      "plt.annotate('LPC', (v1[1169], v2[1169]), textcoords='offset points', xycoords='data',  xytext=(-30, 15))\n",
      "v1 = data20161119180440_repqs19reqs_lc_se_00000['b00001_' + v1n]\n",
      "v2 = data20161119180440_repqs19reqs_lc_se_00000['b00001_' + v2n]\n",
      "plt.plot(v1, v2, linestyle = '-', color = 'grey', lw = 6)\n",
      "plt.plot(v1[1], v2[1], marker = 'x', markersize = 12, markeredgewidth = 4, color = 'g', markeredgecolor = 'g', alpha = 0.5, zorder = 1000)\n",
      "plt.annotate('LPC', (v1[1], v2[1]), textcoords='offset points', xycoords='data',  xytext=(-30, 15))\n",
      "v1 = data20161119180440_repqs19reqs_lc_se_00000['b00002_' + v1n]\n",
      "v2 = data20161119180440_repqs19reqs_lc_se_00000['b00002_' + v2n]\n",
      "plt.plot(v1, v2, linestyle = '--', color = 'grey', lw = 6)\n",
      "plt.plot(v1[1449], v2[1449], marker = 'x', markersize = 12, markeredgewidth = 4, color = 'g', markeredgecolor = 'g', alpha = 0.5, zorder = 1000)\n",
      "plt.annotate('LPC', (v1[1449], v2[1449]), textcoords='offset points', xycoords='data',  xytext=(-30, 15))\n",
      "v1 = data20161119180440_repqs19reqs_lc_se_00000['b00003_' + v1n]\n",
      "v2 = data20161119180440_repqs19reqs_lc_se_00000['b00003_' + v2n]\n",
      "plt.plot(v1, v2, linestyle = '-', color = 'grey', lw = 6)\n",
      "plt.plot(v1[1], v2[1], marker = 'x', markersize = 12, markeredgewidth = 4, color = 'g', markeredgecolor = 'g', alpha = 0.5, zorder = 1000)\n",
      "plt.annotate('LPC', (v1[1], v2[1]), textcoords='offset points', xycoords='data',  xytext=(-30, 15))\n",
      "v1 = data20161119180440_repqs19reqs_lc_se_00000['b00004_' + v1n]\n",
      "v2 = data20161119180440_repqs19reqs_lc_se_00000['b00004_' + v2n]\n",
      "plt.plot(v1, v2, linestyle = '-', color = 'grey', lw = 6)\n",
      "plt.plot(v1[1], v2[1], marker = 'x', markersize = 12, markeredgewidth = 4, color = 'g', markeredgecolor = 'g', alpha = 0.5, zorder = 1000)\n",
      "plt.annotate('LPC', (v1[1], v2[1]), textcoords='offset points', xycoords='data',  xytext=(-30, 15))\n",
      "v1 = data20161119180440_repqs19reqs_lc_se_00000['b00005_' + v1n]\n",
      "v2 = data20161119180440_repqs19reqs_lc_se_00000['b00005_' + v2n]\n",
      "plt.plot(v1, v2, linestyle = '-', color = 'grey', lw = 6)\n",
      "plt.plot(v1[1], v2[1], marker = 'x', markersize = 12, markeredgewidth = 4, color = 'g', markeredgecolor = 'g', alpha = 0.5, zorder = 1000)\n",
      "plt.annotate('LPC', (v1[1], v2[1]), textcoords='offset points', xycoords='data',  xytext=(-30, 15))\n",
      "v1 = data20161119180440_repqs19reqs_lc_se_00000['b00006_' + v1n]\n",
      "v2 = data20161119180440_repqs19reqs_lc_se_00000['b00006_' + v2n]\n",
      "plt.plot(v1, v2, linestyle = '-', color = 'grey', lw = 6)\n",
      "plt.plot(v1[2165], v2[2165], marker = 'x', markersize = 12, markeredgewidth = 4, color = 'g', markeredgecolor = 'g', alpha = 0.5, zorder = 1000)\n",
      "plt.annotate('LPC', (v1[2165], v2[2165]), textcoords='offset points', xycoords='data',  xytext=(-30, 15))\n",
      "v1 = data20161119180440_repqs19reqs_lc_se_00000['b00007_' + v1n]\n",
      "v2 = data20161119180440_repqs19reqs_lc_se_00000['b00007_' + v2n]\n",
      "plt.plot(v1, v2, linestyle = '-', color = 'grey', lw = 6)\n",
      "plt.plot(v1[1], v2[1], marker = 'x', markersize = 12, markeredgewidth = 4, color = 'g', markeredgecolor = 'g', alpha = 0.5, zorder = 1000)\n",
      "plt.annotate('LPC', (v1[1], v2[1]), textcoords='offset points', xycoords='data',  xytext=(-30, 15))\n",
      "v1 = data20161119180440_repqs19reqs_lc_se_00000['b00008_' + v1n]\n",
      "v2 = data20161119180440_repqs19reqs_lc_se_00000['b00008_' + v2n]\n",
      "plt.plot(v1, v2, linestyle = '-', color = 'grey', lw = 6)\n",
      "plt.plot(v1[1], v2[1], marker = 'x', markersize = 12, markeredgewidth = 4, color = 'g', markeredgecolor = 'g', alpha = 0.5, zorder = 1000)\n",
      "plt.annotate('LPC', (v1[1], v2[1]), textcoords='offset points', xycoords='data',  xytext=(-30, 15))\n",
      "v1 = data20161119180440_repqs19reqs_lc_se_00000['b00009_' + v1n]\n",
      "v2 = data20161119180440_repqs19reqs_lc_se_00000['b00009_' + v2n]\n",
      "plt.plot(v1, v2, linestyle = '-', color = 'grey', lw = 6)\n",
      "\n"
     ]
    }
   ],
   "source": [
    "print np.load('20161119180440_repqs19reqs_lc_se_00000.npz')['script']"
   ]
  },
  {
   "cell_type": "code",
   "execution_count": 17,
   "metadata": {
    "collapsed": false
   },
   "outputs": [
    {
     "data": {
      "image/png": "[encoded data removed]",
      "text/plain": [
       "<matplotlib.figure.Figure at 0x1170a4310>"
      ]
     },
     "metadata": {},
     "output_type": "display_data"
    }
   ],
   "source": [
    "v1n = 'par000'\n",
    "v2n = 'var002'\n",
    "data20161119120634_repqs19reqs_ss_se_00000 = np.load('20161119120634_repqs19reqs_ss_se_00000.npz')\n",
    "v1 = data20161119120634_repqs19reqs_ss_se_00000['b00000_' + v1n]\n",
    "v2 = data20161119120634_repqs19reqs_ss_se_00000['b00000_' + v2n]\n",
    "plt.plot(v1, v2, linestyle = '--', color = 'black', lw = 3)\n",
    "plt.plot([1, v1[0]], [v2[0], v2[0]], linestyle = '--', color = 'black', lw = 3)\n",
    "plt.plot(v1[0], v2[0], marker = 's', markersize = 12, markeredgewidth = 0, color = 'g', markeredgecolor = 'g', alpha = 0.5, zorder = 1000)\n",
    "plt.annotate('HB', (v1[0], v2[0]), textcoords='offset points', xycoords='data',  xytext=(-30, 15))\n",
    "v1 = data20161119120634_repqs19reqs_ss_se_00000['b00001_' + v1n]\n",
    "v2 = data20161119120634_repqs19reqs_ss_se_00000['b00001_' + v2n]\n",
    "plt.plot(v1, v2, linestyle = '-', color = 'black', lw = 3)\n",
    "\n",
    "#Plot limit cycle\n",
    "data20161119180440_repqs19reqs_lc_se_00000 = np.load('20161119180440_repqs19reqs_lc_se_00000.npz')\n",
    "v1 = data20161119180440_repqs19reqs_lc_se_00000['b00000_' + v1n]\n",
    "v2 = data20161119180440_repqs19reqs_lc_se_00000['b00000_' + v2n]\n",
    "plt.plot(v1, v2, linestyle = '-', color = 'grey', lw = 6)\n",
    "plt.plot(v1[1169], v2[1169], marker = 'x', markersize = 12, markeredgewidth = 4, color = 'g', markeredgecolor = 'g', alpha = 0.5, zorder = 1000)\n",
    "plt.annotate('LPC', (v1[1169], v2[1169]), textcoords='offset points', xycoords='data',  xytext=(-30, 15))\n",
    "v1 = data20161119180440_repqs19reqs_lc_se_00000['b00002_' + v1n]\n",
    "v2 = data20161119180440_repqs19reqs_lc_se_00000['b00002_' + v2n]\n",
    "plt.plot(v1, v2, linestyle = '--', color = 'grey', lw = 6)\n",
    "\n",
    "plt.xlim(1e0, 2000)\n",
    "plt.xscale('log')\n",
    "plt.xlabel('$S_e$')\n",
    "plt.ylabel('$M_2$')\n",
    "plt.tight_layout()\n",
    "plt.savefig('fig3.png', dpi = 300)"
   ]
  },
  {
   "cell_type": "code",
   "execution_count": null,
   "metadata": {
    "collapsed": true
   },
   "outputs": [],
   "source": []
  }
 ],
 "metadata": {
  "kernelspec": {
   "display_name": "Python 2",
   "language": "python",
   "name": "python2"
  },
  "language_info": {
   "codemirror_mode": {
    "name": "ipython",
    "version": 2
   },
   "file_extension": ".py",
   "mimetype": "text/x-python",
   "name": "python",
   "nbconvert_exporter": "python",
   "pygments_lexer": "ipython2",
   "version": "2.7.11"
  }
 },
 "nbformat": 4,
 "nbformat_minor": 0
}
